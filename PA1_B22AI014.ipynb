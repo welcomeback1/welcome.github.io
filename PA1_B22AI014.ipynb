{
  "nbformat": 4,
  "nbformat_minor": 0,
  "metadata": {
    "colab": {
      "provenance": [],
      "authorship_tag": "ABX9TyOq/pL1QbQU8TaF4xaqT5pL",
      "include_colab_link": true
    },
    "kernelspec": {
      "name": "python3",
      "display_name": "Python 3"
    },
    "language_info": {
      "name": "python"
    }
  },
  "cells": [
    {
      "cell_type": "markdown",
      "metadata": {
        "id": "view-in-github",
        "colab_type": "text"
      },
      "source": [
        "<a href=\"https://colab.research.google.com/github/welcomeback1/welcome.github.io/blob/main/PA1_B22AI014.ipynb\" target=\"_parent\"><img src=\"https://colab.research.google.com/assets/colab-badge.svg\" alt=\"Open In Colab\"/></a>"
      ]
    },
    {
      "cell_type": "markdown",
      "source": [
        "1. Lists and Loops:"
      ],
      "metadata": {
        "id": "1s7Ta1tqStU7"
      }
    },
    {
      "cell_type": "code",
      "source": [
        "def sum_of_even_numbers(input_list):\n",
        "    even_sum = 0\n",
        "    for number in input_list:\n",
        "        if number % 2 == 0:\n",
        "            even_sum += number\n",
        "    return even_sum\n",
        "\n",
        "# Take input from the user\n",
        "user_input = input(\"Enter a list of integers separated by spaces: \")\n",
        "\n",
        "# Convert the input string into a list of integers\n",
        "input_numbers = [int(num) for num in user_input.split()]\n",
        "\n",
        "# Call the function with the user-provided list\n",
        "result = sum_of_even_numbers(input_numbers)\n",
        "\n",
        "# Display the result\n",
        "print(\"Input List:\", input_numbers)\n",
        "print(\"Sum of Even Numbers:\", result)\n"
      ],
      "metadata": {
        "id": "j4ygDWOqSdMT"
      },
      "execution_count": null,
      "outputs": []
    },
    {
      "cell_type": "markdown",
      "source": [
        "2. nearest neighbour:"
      ],
      "metadata": {
        "id": "-r4cqXmDS03G"
      }
    },
    {
      "cell_type": "code",
      "source": [
        "import numpy as np\n",
        "\n",
        "def distance(point1, point2):\n",
        "    return np.sqrt((point1[0] - point2[0])**2 + (point1[1] - point2[1])**2)\n",
        "\n",
        "def three_nearest_neighbors(target_point, points_array):\n",
        "\n",
        "    # Calculate distances from the target point to all points in the array\n",
        "    distances = [distance(target_point, point) for point in points_array]\n",
        "\n",
        "    # Find indices of three smallest distances\n",
        "    nearest_indices = np.argsort(distances)[:3]\n",
        "\n",
        "    # Extract three nearest neighbors based on indices\n",
        "    nearest_neighbors = [points_array[i] for i in nearest_indices]\n",
        "\n",
        "    return nearest_neighbors\n",
        "\n",
        "# User input for the target point\n",
        "target_point_x = float(input(\"Enter x-coordinate of the target point: \"))\n",
        "target_point_y = float(input(\"Enter y-coordinate of the target point: \"))\n",
        "target_point = (target_point_x, target_point_y)\n",
        "\n",
        "# User input for the array of points\n",
        "num_points = int(input(\"Enter the number of points in the array: \"))\n",
        "points_array = []\n",
        "for i in range(num_points):\n",
        "    x = float(input(f\"Enter x-coordinate of point {i+1}: \"))\n",
        "    y = float(input(f\"Enter y-coordinate of point {i+1}: \"))\n",
        "    points_array.append((x, y))\n",
        "\n",
        "# Find three nearest neighbors\n",
        "nearest_neighbors = three_nearest_neighbors(target_point, points_array)\n",
        "\n",
        "# Display the result\n",
        "print(\"\\nTarget Point:\", target_point)\n",
        "print(\"Array of Points:\", points_array)\n",
        "print(\"Three Nearest Neighbors:\", nearest_neighbors)\n"
      ],
      "metadata": {
        "id": "sXx2nhXESlBU"
      },
      "execution_count": null,
      "outputs": []
    },
    {
      "cell_type": "markdown",
      "source": [
        "3. List Comprehension:"
      ],
      "metadata": {
        "id": "mwB7VMERTbsF"
      }
    },
    {
      "cell_type": "code",
      "source": [
        "# Take a list of words as input from the user\n",
        "word_list = input(\"Enter a list of words : \").split()\n",
        "\n",
        "# Create a new list containing the length of each word using list comprehension\n",
        "word_lengths = [len(word) for word in word_list]\n",
        "\n",
        "# Print the original list and the length of each word\n",
        "print(\"List of Words:\", word_list)\n",
        "print(\"Length of Each Word:\", word_lengths)\n"
      ],
      "metadata": {
        "id": "UUTnlyQaTfoN"
      },
      "execution_count": null,
      "outputs": []
    },
    {
      "cell_type": "markdown",
      "source": [
        "4. NumPy Array Operations:\n"
      ],
      "metadata": {
        "id": "15kihB_bWhCV"
      }
    },
    {
      "cell_type": "code",
      "source": [
        "import numpy as np\n",
        "\n",
        "# Given NumPy arrays\n",
        "arr1 = np.array([1, 2, 3])\n",
        "arr2 = np.array([4, 5, 6])\n",
        "\n",
        "# Perform element-wise multiplication\n",
        "result = arr1 * arr2\n",
        "\n",
        "# Display the result\n",
        "print(\"Array 1:\", arr1)\n",
        "print(\"Array 2:\", arr2)\n",
        "print(\"Element-wise Multiplication Result:\", result)\n"
      ],
      "metadata": {
        "id": "KqbeI8UlWncR"
      },
      "execution_count": null,
      "outputs": []
    },
    {
      "cell_type": "markdown",
      "source": [
        "5. NumPy Array Slicing:\n"
      ],
      "metadata": {
        "id": "Gq5Mnv3ZXjR1"
      }
    },
    {
      "cell_type": "code",
      "source": [
        "import numpy as np\n",
        "\n",
        "# Given NumPy array\n",
        "data = np.arange(1, 21)\n",
        "\n",
        "# Use array slicing to extract elements from index 5 to index 15\n",
        "sliced = data[5:16]\n",
        "\n",
        "# Display the result\n",
        "print(\"Original Array:\", data)\n",
        "print(\"Sliced Array from index 5 to index 15:\", sliced)\n"
      ],
      "metadata": {
        "id": "5hDtP97RXmJL"
      },
      "execution_count": null,
      "outputs": []
    },
    {
      "cell_type": "markdown",
      "source": [
        "6. Data Visualization with Matplotlib:"
      ],
      "metadata": {
        "id": "lKZ6K55eX51D"
      }
    },
    {
      "cell_type": "code",
      "source": [
        "import numpy as np\n",
        "import matplotlib.pyplot as plt\n",
        "\n",
        "x_a = np.linspace(-1, 1, 100)\n",
        "y_a = 5 * x_a + 4\n",
        "\n",
        "x_b = np.linspace(10, 100, 100)\n",
        "y_b = np.log(x_b)\n",
        "\n",
        "x_c = np.linspace(-10, 10, 100)\n",
        "y_c = x_c**2\n",
        "\n",
        "x_d = np.linspace(-1, 1, 100)\n",
        "y_d = 1 / (1 + np.exp(-x_d))\n",
        "\n",
        "# Plotting the functions\n",
        "plt.figure(figsize=(12, 8))\n",
        "\n",
        "# Function (a)\n",
        "plt.subplot(221)\n",
        "plt.plot(x_a, y_a, label='y = 5x + 4')\n",
        "plt.title('Function (a)')\n",
        "plt.legend()\n",
        "\n",
        "# Function (b)\n",
        "plt.subplot(222)\n",
        "plt.plot(x_b, y_b, label='y = ln(x)')\n",
        "plt.title('Function (b)')\n",
        "plt.legend()\n",
        "\n",
        "# Function (c)\n",
        "plt.subplot(223)\n",
        "plt.plot(x_c, y_c, label='y = x^2')\n",
        "plt.title('Function (c)')\n",
        "plt.legend()\n",
        "\n",
        "# Function (d)\n",
        "plt.subplot(224)\n",
        "plt.plot(x_d, y_d, label='y = 1 / (1 + e^(-x))')\n",
        "plt.title('Function (d)')\n",
        "plt.legend()\n",
        "\n",
        "# Adjust layout for better visualization\n",
        "plt.tight_layout()\n",
        "\n",
        "# Show the plots\n",
        "plt.show()\n"
      ],
      "metadata": {
        "id": "y0Rqyd_YX8uY"
      },
      "execution_count": null,
      "outputs": []
    },
    {
      "cell_type": "markdown",
      "source": [
        "7. Data Cleaning with Pandas:"
      ],
      "metadata": {
        "id": "WnjWqyntYeKW"
      }
    },
    {
      "cell_type": "code",
      "source": [
        "import pandas as pd\n",
        "import numpy as np\n",
        "\n",
        "def replace_missing_with_mean(data):\n",
        "\n",
        "    # Reading the data into a DataFrame\n",
        "    df = pd.read_csv(pd.compat.StringIO(data), header=None, delimiter=',')\n",
        "\n",
        "    # Replace consecutive commas with NaN\n",
        "    df.replace(r'^\\s*$', np.nan, regex=True, inplace=True)\n",
        "\n",
        "    # Convert columns to numeric\n",
        "    df = df.apply(pd.to_numeric, errors='coerce')\n",
        "\n",
        "    # Replace missing values with column means\n",
        "    df_filled = df.fillna(df.mean())\n",
        "\n",
        "    return df_filled\n",
        "\n",
        "# Provided data\n",
        "data_string = \"\"\"354,721,187,602,893\n",
        "438,279,550,146,933\n",
        "812,661,924,,337\n",
        "519,64,805,454,289\n",
        "26,360,972,621,509\n",
        "789,45,676,298,814\n",
        "183,912,100,579,675\n",
        "884,207,15,865,463\n",
        "392,22,846,778,720\n",
        "623,309,483,532,47\n",
        "954,83,230,191,964\n",
        "631,536,277,167,389\n",
        "849,337,506,636,797\n",
        "74,875,128,,825\n",
        "63,997,835,56,933\n",
        "399,370,980,74,453\n",
        "188,330,745,461,644\n",
        "930,616,239,249,733\n",
        "77,460,274,277,486\n",
        "315,841,258,286,595\n",
        "897,454,824,457,954\n",
        "532,552,346,985,837\n",
        "10,434,578,954,810\n",
        "640,451,666,898,652\n",
        "255,761,595,731,678\n",
        "306,726,933,558,388\n",
        "367,372,737,739,380\n",
        "659,269,935,320,805\n",
        "992,694,154,862,352\n",
        "172,327,819,152,951\n",
        "576,628,836,795,881\n",
        "954,612,657,172,703\n",
        "367,177,682,737,529\n",
        "229,958,646,242,92\n",
        "917,900,36,58,\n",
        "926,637,,309,241\n",
        "893,864,282,234,591\n",
        "671,197,424,493,324\n",
        "961,346,441,456,523\n",
        "267,82,236,531,390\n",
        "252,588,466,139,364\n",
        "679,661,317,787,665\n",
        "800,330,992,330,157\n",
        "898,532,698,54,643\n",
        "470,347,750,943,723\n",
        "699,89,570,865,868\n",
        "935,471,932,330,926\n",
        "854,184,517,837,253\n",
        "274,341,740,31,745\n",
        "669,505,493,171,385\n",
        "653,378,308,239,297\n",
        "346,916,441,473,196\n",
        "581,844,392,423,481\n",
        "57,373,390,838,605\n",
        "691,585,63,300,487\n",
        "683,258,758,440,863\n",
        "672,420,890,441,991\n",
        "437,954,224,264,134\n",
        "298,347,491,682,79\n",
        "533,714,420,352,245\n",
        "413,44,430,220,172\n",
        "849,49,715,609,424\n",
        "811,388,549,353,574\n",
        "704,283,367,460,457\n",
        "776,884,916,270,216\n",
        "220,837,812,879,385\n",
        "811,731,731,868,511\n",
        "23,582,816,225,932\n",
        "872,13,298,246,956\n",
        "978,550,911,489,131\n",
        "279,836,706,316,26\n",
        "874,79,314,139,51\n",
        "407,165,626,194,187\n",
        "870,903,84,648,52\n",
        "78,471,655,234,644\n",
        "248,278,348,632,899\n",
        "739,408,303,789,958\n",
        "841,657,,561,134\n",
        "963,682,857,289,172\n",
        "748,29,960,754,834\n",
        "238,480,766,282,803\n",
        "929,229,195,776,939\n",
        "144,154,518,491,758\n",
        "687,831,853,484,736\n",
        "788,836,622,139,571\n",
        "753,234,574,167,576\n",
        "905,,999,571,324\n",
        "227,155,478,809,821\n",
        "364,753,522,741,215\n",
        ",915,425,939,312\n",
        "919,417,937,79,439\n",
        "273,836,581,239,254\n",
        "798,442,785,139,262\"\"\"\n",
        "\n",
        "result_df = replace_missing_with_mean(data_string)\n",
        "\n",
        "# Display the original and modified DataFrames"
      ],
      "metadata": {
        "id": "h6Yr-2ruYhxr"
      },
      "execution_count": null,
      "outputs": []
    },
    {
      "cell_type": "markdown",
      "source": [
        "8. Pandas DataFrame Filtering:"
      ],
      "metadata": {
        "id": "fu2jeCIhbLPx"
      }
    },
    {
      "cell_type": "code",
      "source": [
        "import pandas as pd\n",
        "from io import StringIO\n",
        "\n",
        "# Input data as a string\n",
        "input_data = \"\"\"Name,Age,Gender,Country\n",
        "Priya Patel,45,Female,India\n",
        "Liu Wei,32,Male,China\n",
        "Mason Clark,27,Male,USA\n",
        "Scarlett White,38,Female,UK\n",
        "Sibongile Zulu,55,Female,Africa\n",
        "Arjun Mehta,31,Male,India\n",
        "Ting Wang,29,Female,China\n",
        "Olivia Green,45,Female,USA\n",
        "Liam Harris,26,Male,UK\n",
        "Jabari Mumba,48,Male,Africa\n",
        "Diya Patel,39,Female,India\n",
        "Tao Li,36,Male,China\n",
        "Ava Robinson,30,Female,USA\n",
        "Ella Thompson,29,Female,UK\n",
        "Kofi Amadi,52,Male,Africa\n",
        "Aarav Gupta,40,Male,India\n",
        "Jing Chen,33,Female,China\n",
        "Noah Carter,34,Male,USA\n",
        "Sophia Hall,28,Female,UK\n",
        "Adanna Onwuka,47,Female,Africa\"\"\"\n",
        "\n",
        "# Read the input data into a Pandas DataFrame\n",
        "df = pd.read_csv(StringIO(input_data))\n",
        "\n",
        "# Filter the DataFrame\n",
        "filtered_df = df[(df['Age'] > 40) & (df['Gender'] == 'Female')]\n",
        "\n",
        "# Display the filtered DataFrame\n",
        "print(\"Filtered DataFrame:\")\n",
        "print(filtered_df)"
      ],
      "metadata": {
        "id": "aA_j2vxqbV6B"
      },
      "execution_count": null,
      "outputs": []
    },
    {
      "cell_type": "markdown",
      "source": [
        "9. Pandas Grouping:"
      ],
      "metadata": {
        "id": "15DSTlDQgltc"
      }
    },
    {
      "cell_type": "code",
      "source": [
        "import pandas as pd\n",
        "from io import StringIO\n",
        "\n",
        "# Read the data from the provided CSV-like data\n",
        "data = \"\"\"Country,City,Population\n",
        "UK,Manchester,\"547,627\"\n",
        "UK,Glasgow,\"621,020\"\n",
        "Germany,Frankfurt,\"753,056\"\n",
        "UK,Leeds,\"789,194\"\n",
        "Germany,Cologne,\"1,085,664\"\n",
        "UK,Birmingham,\"1,153,717\"\n",
        "Germany,Munich,\"1,471,508\"\n",
        "USA,Phoenix,\"1,608,139\"\n",
        "Japan,Sapporo,\"1,883,027\"\n",
        "Germany,Hamburg,\"1,899,160\"\n",
        "USA,Houston,\"2,320,268\"\n",
        "Japan,Nagoya,\"2,327,557\"\n",
        "Brazil,Fortaleza,\"2,669,342\"\n",
        "Japan,Osaka,\"2,691,206\"\n",
        "USA,Chicago,\"2,693,976\"\n",
        "Brazil,Salvador,\"2,886,698\"\n",
        "Brazil,Brasilia,\"3,055,149\"\n",
        "Japan,Yokohama,\"3,736,666\"\n",
        "Germany,Berlin,\"3,769,495\"\n",
        "USA,Los Angeles,\"3,979,576\"\n",
        "Brazil,Rio de Janeiro,\"6,747,815\"\n",
        "India,Hyderabad,\"6,809,970\"\n",
        "India,Chennai,\"7,088,000\"\n",
        "USA,New York,\"8,336,817\"\n",
        "India,Bangalore,\"8,443,675\"\n",
        "UK,London,\"8,982,000\"\n",
        "India,Delhi,\"11,034,555\"\n",
        "Brazil,Sao Paulo,\"12,325,232\"\n",
        "China,Shenzhen,\"12,356,820\"\n",
        "India,Mumbai,\"12,478,447\"\n",
        "Japan,Tokyo,\"13,515,271\"\n",
        "China,Guangzhou,\"14,904,400\"\n",
        "China,Chengdu,\"16,044,600\"\n",
        "China,Beijing,\"21,516,000\"\n",
        "China,Shanghai,\"24,256,800\"\n",
        "\"\"\"\n",
        "\n",
        "# Read the data into a DataFrame\n",
        "df = pd.read_csv(StringIO(data))\n",
        "\n",
        "# Remove commas from the 'Population' column and convert to numeric\n",
        "df['Population'] = df['Population'].str.replace(',', '').astype(float)\n",
        "\n",
        "# Group by 'Country' and calculate the average population for each country\n",
        "average_population_by_country = df.groupby('Country')['Population'].mean()\n",
        "\n",
        "# Display the result\n",
        "print(average_population_by_country)\n"
      ],
      "metadata": {
        "id": "LRUTfWozgpBY"
      },
      "execution_count": null,
      "outputs": []
    },
    {
      "cell_type": "markdown",
      "source": [
        "10. Data Manipulation with Pandas:"
      ],
      "metadata": {
        "id": "khnkIMMeign4"
      }
    },
    {
      "cell_type": "code",
      "source": [
        "import pandas as pd\n",
        "\n",
        "# Sample data\n",
        "data = {'Sales': [1400, 1500, 1800, 1200],\n",
        "        'Expenses': [600, 700, 800, 500]}\n",
        "\n",
        "# Create a DataFrame\n",
        "df = pd.DataFrame(data)\n",
        "\n",
        "# Create a new column 'Profit' by subtracting 'Expenses' from 'Sales'\n",
        "df['Profit'] = df['Sales'] - df['Expenses']\n",
        "\n",
        "# Display the DataFrame with the new 'Profit' column\n",
        "print(df)\n"
      ],
      "metadata": {
        "id": "LOWh7p0IijR3"
      },
      "execution_count": null,
      "outputs": []
    },
    {
      "cell_type": "markdown",
      "source": [
        "11. Dictionary Manipulation:"
      ],
      "metadata": {
        "id": "5CfWiQSljBdT"
      }
    },
    {
      "cell_type": "code",
      "source": [
        "def find_names_with_prefix(phonebook, prefix='91'):\n",
        "\n",
        "    matching_names = [name for name, phone_number in phonebook.items() if phone_number.startswith(prefix)]\n",
        "    return matching_names\n",
        "\n",
        "# Example phonebook of 10 friends\n",
        "phonebook = {\n",
        "    'Keerthan': '9623456789',\n",
        "    'Rahul': '9856789012',\n",
        "    'Abhinay': '9178901234',\n",
        "    'Sandheep': '9212345678',\n",
        "    'Harsha': '9134567890',\n",
        "    'Abhishek': '9356673401',\n",
        "    'Gautham': '9878908658',\n",
        "    'Ashrith': '9212306378',\n",
        "    'Teja': '9156959012',\n",
        "    'Koushik': '9178001234',\n",
        "}\n",
        "\n",
        "# Find names with phone numbers starting with '91'\n",
        "matching_names = find_names_with_prefix(phonebook)\n",
        "\n",
        "# Display the result\n",
        "print(\"Names with phone numbers starting with '91':\", matching_names)\n"
      ],
      "metadata": {
        "id": "f7bvfq7IjETM"
      },
      "execution_count": null,
      "outputs": []
    },
    {
      "cell_type": "markdown",
      "source": [
        "12. Function:"
      ],
      "metadata": {
        "id": "Gdx48PFJkJHw"
      }
    },
    {
      "cell_type": "code",
      "source": [
        "import numpy as np\n",
        "\n",
        "def relu_activation(vector):\n",
        "    return np.maximum(0, vector)\n",
        "\n",
        "def sigmoid_activation(vector):\n",
        "    return 1 / (1 + np.exp(-vector))\n",
        "\n",
        "# Take input from the user for a vector\n",
        "user_input = input(\"Enter a list of numbers separated by commas (e.g., 1,2,3): \")\n",
        "input_vector = np.array([float(x) for x in user_input.split(',')])\n",
        "\n",
        "# Compute ReLU activation\n",
        "relu_result = relu_activation(input_vector)\n",
        "print(\"ReLU Activation Result:\", relu_result)\n",
        "\n",
        "# Compute sigmoid activation\n",
        "sigmoid_result = sigmoid_activation(input_vector)\n",
        "print(\"Sigmoid Activation Result:\", sigmoid_result)"
      ],
      "metadata": {
        "id": "jRtmu1yUkTlU"
      },
      "execution_count": null,
      "outputs": []
    },
    {
      "cell_type": "markdown",
      "source": [
        "13. Image Reading:"
      ],
      "metadata": {
        "id": "LmaJGaMfk9yL"
      }
    },
    {
      "cell_type": "code",
      "source": [
        "import cv2\n",
        "import numpy as np\n",
        "\n",
        "def compute_average_redness(image):\n",
        "\n",
        "    # Extract red channel\n",
        "    red_channel = image[:, :, 2]\n",
        "\n",
        "    # Compute average redness\n",
        "    average_redness = np.mean(red_channel)\n",
        "\n",
        "    return average_redness\n",
        "\n",
        "# Read the image\n",
        "image_path = \"C:\\\\Users\\\\bonth\\\\Documents\\\\apple.jpeg\"\n",
        "image = cv2.imread(image_path)\n",
        "\n",
        "# Check if the image was successfully loaded\n",
        "if image is None:\n",
        "    print(\"Error: Could not read the image.\")\n",
        "else:\n",
        "    # Display the image\n",
        "    cv2.imshow(\"Apple Image\", image)\n",
        "    cv2.waitKey(0)\n",
        "    cv2.destroyAllWindows()\n",
        "\n",
        "    # Compute and display the average redness\n",
        "    average_redness = compute_average_redness(image)\n",
        "    print(\"Average Redness:\", average_redness)\n"
      ],
      "metadata": {
        "colab": {
          "base_uri": "https://localhost:8080/"
        },
        "id": "kPNpbKCWlIwp",
        "outputId": "df243578-1799-49b9-b0df-be6e0ade90ca"
      },
      "execution_count": 40,
      "outputs": [
        {
          "output_type": "stream",
          "name": "stdout",
          "text": [
            "Error: Could not read the image.\n"
          ]
        }
      ]
    },
    {
      "cell_type": "markdown",
      "source": [
        "14. Files Reading:\n"
      ],
      "metadata": {
        "id": "XS_MQLLamksC"
      }
    },
    {
      "cell_type": "code",
      "source": [
        "import os\n",
        "\n",
        "def display_image_files(folder_path):\n",
        "    image_extensions = {'.png', '.jpeg', '.jpg', '.tiff'}\n",
        "\n",
        "    for root, dirs, files in os.walk(folder_path):\n",
        "        for file in files:\n",
        "            file_path = os.path.join(root, file)\n",
        "            _, extension = os.path.splitext(file_path)\n",
        "\n",
        "            if extension.lower() in image_extensions:\n",
        "                print(\"Image File:\", file_path)\n",
        "\n",
        "# Replace 'your_folder_path' with the path to the folder you want to search\n",
        "folder_path = 'C:\\\\Users\\\\bonth\\\\Documents\\\\prml_test_file'\n",
        "display_image_files(folder_path)\n"
      ],
      "metadata": {
        "id": "a_uAjljJmy9m"
      },
      "execution_count": 45,
      "outputs": []
    },
    {
      "cell_type": "markdown",
      "source": [
        "15. Object-Oriented Programming:"
      ],
      "metadata": {
        "id": "9IHIYVKKoZI9"
      }
    },
    {
      "cell_type": "code",
      "source": [
        "class Rectangle:\n",
        "    def __init__(self, width, height):\n",
        "        self.width = width\n",
        "        self.height = height\n",
        "\n",
        "    def calculate_area(self):\n",
        "        return self.width * self.height\n",
        "\n",
        "    def calculate_perimeter(self):\n",
        "        return 2 * (self.width + self.height)\n",
        "\n",
        "# Take input from the user\n",
        "width1 = float(input(\"Enter the width for Rectangle 1: \"))\n",
        "height1 = float(input(\"Enter the height for Rectangle 1: \"))\n",
        "rectangle1 = Rectangle(width1, height1)\n",
        "\n",
        "width2 = float(input(\"Enter the width for Rectangle 2: \"))\n",
        "height2 = float(input(\"Enter the height for Rectangle 2: \"))\n",
        "rectangle2 = Rectangle(width2, height2)\n",
        "\n",
        "# Calculate area and perimeter\n",
        "area1 = rectangle1.calculate_area()\n",
        "perimeter1 = rectangle1.calculate_perimeter()\n",
        "\n",
        "area2 = rectangle2.calculate_area()\n",
        "perimeter2 = rectangle2.calculate_perimeter()\n",
        "\n",
        "# Display the results\n",
        "print(\"Rectangle 1 - Area:\", area1, \"Perimeter:\", perimeter1)\n",
        "print(\"Rectangle 2 - Area:\", area2, \"Perimeter:\", perimeter2)"
      ],
      "metadata": {
        "id": "ybTV1TG1ocN1"
      },
      "execution_count": null,
      "outputs": []
    },
    {
      "cell_type": "markdown",
      "source": [
        "16. Data Visualization with Matplotlib:"
      ],
      "metadata": {
        "id": "145QySK2pBxx"
      }
    },
    {
      "cell_type": "code",
      "source": [
        "import pandas as pd\n",
        "import matplotlib.pyplot as plt\n",
        "\n",
        "# Read the data from marks.csv\n",
        "data = pd.read_csv('programmingAssignment/PA1/DATA/marks.csv')\n",
        "\n",
        "# Calculate average scores and variance for each subject\n",
        "average_scores = data.mean()\n",
        "variance_scores = data.var()\n",
        "\n",
        "# Create a bar chart\n",
        "fig, ax = plt.subplots(figsize=(10, 6))\n",
        "\n",
        "# Plot average scores\n",
        "ax.bar(average_scores.index, average_scores, label='Average Scores', color='blue', alpha=0.7)\n",
        "\n",
        "# Plot variance scores\n",
        "ax.bar(variance_scores.index, variance_scores, label='Variance in Scores', color='orange', alpha=0.7)\n",
        "\n",
        "# Customize the plot\n",
        "ax.set_title('Students\\' Average Scores and Variance Across Subjects')\n",
        "ax.set_xlabel('Subjects')\n",
        "ax.set_ylabel('Scores')\n",
        "ax.legend()\n",
        "\n",
        "# Display the plot\n",
        "plt.show()"
      ],
      "metadata": {
        "id": "YVAdObo9pEdc"
      },
      "execution_count": null,
      "outputs": []
    }
  ]
}